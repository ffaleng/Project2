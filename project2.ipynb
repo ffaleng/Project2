{
  "nbformat": 4,
  "nbformat_minor": 0,
  "metadata": {
    "colab": {
      "provenance": []
    },
    "kernelspec": {
      "name": "python3",
      "display_name": "Python 3"
    },
    "language_info": {
      "name": "python"
    }
  },
  "cells": [
    {
      "cell_type": "markdown",
      "source": [
        "Math 5750/6880: Mathematics of Data Science \\\n",
        "Project 2"
      ],
      "metadata": {
        "id": "0gdC70xxFyc4"
      }
    },
    {
      "cell_type": "markdown",
      "source": [],
      "metadata": {
        "id": "cugLgHR-p65C"
      }
    },
    {
      "cell_type": "markdown",
      "source": [
        "# 1. Clustering Gaussian Blobs using $k$-means"
      ],
      "metadata": {
        "id": "i9_7SnpMGKDJ"
      }
    },
    {
      "cell_type": "code",
      "source": [
        "import numpy as np\n",
        "from sklearn.datasets import make_blobs\n",
        "from sklearn.preprocessing import StandardScaler\n",
        "\n",
        "# Generate 5 Gaussian blobs in 10 dimensions\n",
        "X, y_true = make_blobs(\n",
        "    n_samples=1000,\n",
        "    centers=5,\n",
        "    n_features=10,\n",
        "    cluster_std=1.5,\n",
        "    random_state=1)        # reproducibility\n",
        "X = StandardScaler().fit_transform(X)\n",
        "\n",
        "print(type(X),X.shape)\n",
        "print(type(y_true),y_true.shape)"
      ],
      "metadata": {
        "colab": {
          "base_uri": "https://localhost:8080/"
        },
        "id": "AB136H0PGKq1",
        "outputId": "6a882402-8a53-4935-9fdc-7d5a1d1d1a2b"
      },
      "execution_count": 6,
      "outputs": [
        {
          "output_type": "stream",
          "name": "stdout",
          "text": [
            "<class 'numpy.ndarray'> (1000, 10)\n",
            "<class 'numpy.ndarray'> (1000,)\n"
          ]
        }
      ]
    },
    {
      "cell_type": "code",
      "source": [
        "from sklearn.cluster import KMeans\n",
        "from sklearn.decomposition import PCA\n",
        "from sklearn.metrics import confusion_matrix\n",
        "from scipy.optimize import linear_sum_assignment\n",
        "import matplotlib.pyplot as plt\n",
        "import numpy as np\n",
        "\n",
        "def hungarian_confusion(y_true, y_pred, n_classes=None):\n",
        "    if n_classes is None:\n",
        "        n_classes = len(np.unique(y_true))\n",
        "    C = confusion_matrix(y_true, y_pred, labels=range(n_classes))\n",
        "    cost = C.max() - C                           # convert to cost matrix\n",
        "    ri, cj = linear_sum_assignment(cost)         # optimal label assignment\n",
        "    remap = {cj[i]: ri[i] for i in range(len(ri))}\n",
        "    y_map = np.vectorize(lambda z: remap.get(z, z))(y_pred)\n",
        "    C_map = confusion_matrix(y_true, y_map, labels=range(n_classes))\n",
        "    acc = np.trace(C_map) / np.sum(C_map)\n",
        "    return C_map, acc, y_map\n",
        "\n",
        "kmeans = KMeans(n_clusters=5, n_init=20, random_state=42).fit(X)\n",
        "labels = kmeans.labels_\n",
        "inertia_smallest = kmeans.inertia_\n",
        "\n",
        "pca = PCA(n_components=2, random_state=42).fit(X)\n",
        "X2 = pca.transform(X)\n",
        "centers2 = pca.transform(kmeans.cluster_centers_)\n",
        "\n",
        "plt.figure()\n",
        "plt.scatter(X2[:, 0], X2[:, 1], c=labels, s=8)\n",
        "plt.scatter(centers2[:, 0], centers2[:, 1], c='k', s=80, marker='x')\n",
        "plt.title('Blobs: PCA 2D with KMeans centers')\n",
        "plt.tight_layout()\n",
        "plt.savefig('blobs_pca_clusters.png', dpi=150)\n",
        "plt.close()\n",
        "\n",
        "C_map, acc, labels_map = hungarian_confusion(y_true, labels, n_classes=5)\n",
        "plt.figure()\n",
        "plt.imshow(C_map, cmap='Blues')\n",
        "plt.colorbar()\n",
        "plt.title('Blobs Confusion (Hungarian Matching)')\n",
        "plt.xlabel('Predicted')\n",
        "plt.ylabel('True')\n",
        "for i in range(C_map.shape[0]):\n",
        "    for j in range(C_map.shape[1]):\n",
        "        plt.text(j, i, str(C_map[i, j]), ha='center', va='center')\n",
        "plt.tight_layout()\n",
        "plt.savefig('blobs_confusion.png', dpi=150)\n",
        "plt.close()\n",
        "\n",
        "Ks, inertias = list(range(2, 11)), []\n",
        "for k in Ks:\n",
        "    km = KMeans(n_clusters=k, n_init=10, random_state=42).fit(X)\n",
        "    inertias.append(km.inertia_)\n",
        "\n",
        "plt.figure()\n",
        "plt.plot(Ks, inertias, marker='o')\n",
        "plt.axvline(5, ls='--', color='gray')\n",
        "plt.xlabel('k')\n",
        "plt.ylabel('Inertia')\n",
        "plt.title('Elbow plot (Blobs)')\n",
        "plt.tight_layout()\n",
        "plt.savefig('blobs_elbow.png', dpi=150)\n",
        "plt.close()\n",
        "\n",
        "print('===== BLOBS RESULTS (copy these into LaTeX) =====')\n",
        "print(f'Min k-means inertia (k=5, n_init=20): {inertia_smallest:.2f}')\n",
        "print(f'Hungarian-matched accuracy: {acc:.4f}')"
      ],
      "metadata": {
        "id": "5GAsN-dmHjRM",
        "outputId": "6590f620-2cc0-43ec-8415-a7292473a1c7",
        "colab": {
          "base_uri": "https://localhost:8080/"
        }
      },
      "execution_count": 8,
      "outputs": [
        {
          "output_type": "stream",
          "name": "stdout",
          "text": [
            "===== BLOBS RESULTS (copy these into LaTeX) =====\n",
            "Min k-means inertia (k=5, n_init=20): 924.32\n",
            "Hungarian-matched accuracy: 1.0000\n"
          ]
        }
      ]
    },
    {
      "cell_type": "markdown",
      "source": [
        "# 2. Clustering Fashion-MNIST using $k$-means"
      ],
      "metadata": {
        "id": "a2qcKggmIH8T"
      }
    },
    {
      "cell_type": "code",
      "source": [
        "import numpy as np\n",
        "from sklearn.datasets import fetch_openml\n",
        "from sklearn.preprocessing import StandardScaler\n",
        "\n",
        "# Load Fashion-MNIST from OpenML\n",
        "# Classes (0-9): T-shirt/top, Trouser, Pullover, Dress, Coat, Sandal, Shirt, Sneaker, Bag, Ankle boot\n",
        "X, y = fetch_openml(\"Fashion-MNIST\", version=1, as_frame=False, parser=\"auto\", return_X_y=True)\n",
        "y = y.astype(int)\n",
        "\n",
        "print(type(X),X.shape)\n",
        "print(type(y),y.shape)"
      ],
      "metadata": {
        "colab": {
          "base_uri": "https://localhost:8080/"
        },
        "id": "B9IQwhgcIVOl",
        "outputId": "5cc76846-93c1-492c-a1ab-6388f8300da9"
      },
      "execution_count": null,
      "outputs": [
        {
          "output_type": "stream",
          "name": "stdout",
          "text": [
            "<class 'numpy.ndarray'> (70000, 784)\n",
            "<class 'numpy.ndarray'> (70000,)\n"
          ]
        }
      ]
    },
    {
      "cell_type": "code",
      "source": [
        "import numpy as np\n",
        "import matplotlib.pyplot as plt\n",
        "from sklearn.datasets import fetch_openml\n",
        "from sklearn.preprocessing import StandardScaler\n",
        "from sklearn.cluster import KMeans\n",
        "from sklearn.metrics import confusion_matrix\n",
        "from scipy.optimize import linear_sum_assignment\n",
        "\n",
        "# Load Fashion-MNIST\n",
        "X, y = fetch_openml(\"Fashion-MNIST\", version=1, as_frame=False, parser=\"auto\", return_X_y=True)\n",
        "y = y.astype(int)\n",
        "X = StandardScaler().fit_transform(X)\n",
        "\n",
        "# Fit KMeans\n",
        "kmeans = KMeans(n_clusters=10, n_init=20, random_state=42).fit(X)\n",
        "labels = kmeans.labels_\n",
        "inertia = kmeans.inertia_\n",
        "\n",
        "# Hungarian matching\n",
        "C = confusion_matrix(y, labels)\n",
        "r, c = linear_sum_assignment(-C)\n",
        "acc = C[r, c].sum() / C.sum()\n",
        "\n",
        "# PCA for visualization\n",
        "from sklearn.decomposition import PCA\n",
        "pca = PCA(n_components=2)\n",
        "X2 = pca.fit_transform(X)\n",
        "centers2 = pca.transform(kmeans.cluster_centers_)\n",
        "\n",
        "plt.figure()\n",
        "plt.scatter(X2[:, 0], X2[:, 1], c=labels, s=3)\n",
        "plt.scatter(centers2[:, 0], centers2[:, 1], c='k', s=80, marker='x')\n",
        "plt.title('Fashion-MNIST: PCA 2D with KMeans centers')\n",
        "plt.tight_layout()\n",
        "plt.savefig('fashion_pca_clusters.png', dpi=150)\n",
        "plt.close()\n",
        "\n",
        "print(\"===== FASHION-MNIST RESULTS (copy into LaTeX) =====\")\n",
        "print(f\"Min k-means inertia (k=10, n_init=20): {inertia:.2f}\")\n",
        "print(f\"Hungarian-matched accuracy: {acc:.4f}\")"
      ],
      "metadata": {
        "id": "0REsDBunNmEl",
        "outputId": "455d0ef2-9cbd-4145-c430-104bb8dae5d9",
        "colab": {
          "base_uri": "https://localhost:8080/"
        }
      },
      "execution_count": 9,
      "outputs": [
        {
          "output_type": "stream",
          "name": "stdout",
          "text": [
            "===== FASHION-MNIST RESULTS (copy into LaTeX) =====\n",
            "Min k-means inertia (k=10, n_init=20): 30508820.46\n",
            "Hungarian-matched accuracy: 0.4844\n"
          ]
        }
      ]
    },
    {
      "cell_type": "markdown",
      "source": [
        "# 3. Dimensionality reduction for Fashion-MNIST"
      ],
      "metadata": {
        "id": "6Bpow7TrZ7iB"
      }
    },
    {
      "cell_type": "code",
      "source": [
        "import numpy as np\n",
        "import matplotlib.pyplot as plt\n",
        "from sklearn.decomposition import PCA\n",
        "from sklearn.cluster import KMeans\n",
        "from sklearn.metrics import confusion_matrix\n",
        "from scipy.optimize import linear_sum_assignment\n",
        "\n",
        "pca50 = PCA(n_components=50, random_state=42)\n",
        "X50 = pca50.fit_transform(X)\n",
        "\n",
        "kmeans_pca = KMeans(n_clusters=10, n_init=20, random_state=42).fit(X50)\n",
        "labels_pca = kmeans_pca.labels_\n",
        "inertia_pca = kmeans_pca.inertia_\n",
        "\n",
        "C = confusion_matrix(y, labels_pca)\n",
        "r, c = linear_sum_assignment(-C)\n",
        "acc_pca = C[r, c].sum() / C.sum()\n",
        "\n",
        "pca2 = PCA(n_components=2, random_state=42)\n",
        "X2 = pca2.fit_transform(X50)\n",
        "centers2 = pca2.transform(kmeans_pca.cluster_centers_)\n",
        "\n",
        "plt.figure()\n",
        "plt.scatter(X2[:, 0], X2[:, 1], c=labels_pca, s=3)\n",
        "plt.scatter(centers2[:, 0], centers2[:, 1], c='k', s=80, marker='x')\n",
        "plt.title('Fashion-MNIST (PCA-50 -> PCA-2) with KMeans centers')\n",
        "plt.tight_layout()\n",
        "plt.savefig('fashion_pca50_clusters.png', dpi=150)\n",
        "plt.close()\n",
        "\n",
        "print(\"===== DIM-RED RESULTS (copy into LaTeX) =====\")\n",
        "print(f\"Min k-means inertia (k=10, PCA-50, n_init=20): {inertia_pca:.2f}\")\n",
        "print(f\"Hungarian-matched accuracy (PCA-50): {acc_pca:.4f}\")"
      ],
      "metadata": {
        "id": "ejYYENCQZ9tj",
        "outputId": "cac02777-a952-4cab-e186-72ff1bf97a46",
        "colab": {
          "base_uri": "https://localhost:8080/"
        }
      },
      "execution_count": 10,
      "outputs": [
        {
          "output_type": "stream",
          "name": "stdout",
          "text": [
            "===== DIM-RED RESULTS (copy into LaTeX) =====\n",
            "Min k-means inertia (k=10, PCA-50, n_init=20): 19610249.81\n",
            "Hungarian-matched accuracy (PCA-50): 0.4835\n"
          ]
        }
      ]
    },
    {
      "cell_type": "markdown",
      "source": [
        "# 4. Clustering Fashion-MNIST using spectral clustering"
      ],
      "metadata": {
        "id": "fOTFcjWOfCZU"
      }
    },
    {
      "cell_type": "code",
      "source": [
        "import numpy as np\n",
        "import matplotlib.pyplot as plt\n",
        "from sklearn.decomposition import PCA\n",
        "from sklearn.cluster import SpectralClustering\n",
        "from sklearn.metrics import confusion_matrix\n",
        "from scipy.optimize import linear_sum_assignment\n",
        "\n",
        "rng = np.random.RandomState(42)\n",
        "idx = rng.choice(len(X), 10000, replace=False)   # 10k is a good balance\n",
        "X_sub, y_sub = X[idx], y[idx]\n",
        "\n",
        "pca50 = PCA(n_components=50, random_state=42)\n",
        "X50 = pca50.fit_transform(X_sub)\n",
        "\n",
        "spec = SpectralClustering(\n",
        "    n_clusters=10,\n",
        "    affinity='nearest_neighbors',   # fast & robust for high-dim data\n",
        "    n_neighbors=10,\n",
        "    assign_labels='kmeans',\n",
        "    random_state=42\n",
        ")\n",
        "labels_spec = spec.fit_predict(X50)\n",
        "\n",
        "C = confusion_matrix(y_sub, labels_spec)\n",
        "r, c = linear_sum_assignment(-C)\n",
        "acc_spec = C[r, c].sum() / C.sum()\n",
        "\n",
        "pca2 = PCA(n_components=2, random_state=42)\n",
        "X2 = pca2.fit_transform(X50)\n",
        "\n",
        "plt.figure()\n",
        "plt.scatter(X2[:, 0], X2[:, 1], c=labels_spec, s=3)\n",
        "plt.title('Fashion-MNIST (Spectral, 10k, PCA-50 -> PCA-2)')\n",
        "plt.tight_layout()\n",
        "plt.savefig('fashion_spec_clusters.png', dpi=150)\n",
        "plt.close()\n",
        "\n",
        "print(\"===== SPECTRAL RESULTS (copy into LaTeX) =====\")\n",
        "print(f\"Subset size: {len(X_sub)}  |  affinity=nearest_neighbors, n_neighbors=10\")\n",
        "print(f\"Hungarian-matched accuracy (Spectral, PCA-50, 10k): {acc_spec:.4f}\")"
      ],
      "metadata": {
        "id": "MRB_nw21fI24",
        "outputId": "e3135cc0-dd44-49b5-ec47-c366b8b35042",
        "colab": {
          "base_uri": "https://localhost:8080/"
        }
      },
      "execution_count": 11,
      "outputs": [
        {
          "output_type": "stream",
          "name": "stdout",
          "text": [
            "===== SPECTRAL RESULTS (copy into LaTeX) =====\n",
            "Subset size: 10000  |  affinity=nearest_neighbors, n_neighbors=10\n",
            "Hungarian-matched accuracy (Spectral, PCA-50, 10k): 0.5791\n"
          ]
        }
      ]
    }
  ]
}